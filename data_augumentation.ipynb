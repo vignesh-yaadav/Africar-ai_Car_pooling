{
 "cells": [
  {
   "cell_type": "code",
   "execution_count": 1,
   "metadata": {},
   "outputs": [],
   "source": [
    "import random\n",
    "import sys\n",
    "import math"
   ]
  },
  {
   "cell_type": "code",
   "execution_count": 4,
   "metadata": {},
   "outputs": [],
   "source": [
    "latitude  =  6.5244 \n",
    "longitude = 3.3792\n",
    "output_file = \"lagos_aug\"\n",
    "\n",
    "def generate_random_data():\n",
    "    with open(output_file, \"w\") as output:\n",
    "        hex1 = '%012X' % random.randint(0,100)\n",
    "        flt = float(random.randint(0,100))\n",
    "        latitude = math.acos(random.random() * 2 - 1)\n",
    "        longitude = random.random() * math.pi * 2\n",
    "        output.write('%s %.lf %.6f %.6f \\n' % (hex1.lower(), flt, longitude, latitude))\n",
    "\n",
    "if __name__ == '__main__':\n",
    "    generate_random_data()"
   ]
  },
  {
   "cell_type": "code",
   "execution_count": 3,
   "metadata": {},
   "outputs": [
    {
     "data": {
      "text/plain": [
       "6.0"
      ]
     },
     "execution_count": 3,
     "metadata": {},
     "output_type": "execute_result"
    }
   ],
   "source": [
    "flx = float(random.randint(0,100))\n",
    "flx"
   ]
  },
  {
   "cell_type": "code",
   "execution_count": 7,
   "metadata": {},
   "outputs": [],
   "source": [
    "import random\n",
    "import sys\n",
    "import math\n",
    "\n",
    "latitude = 6.524379\n",
    "longitude = 3.379206\n",
    "file_n = 'random_lat_lon.csv'\n",
    "\n",
    "def generate_random_data(lat, lon, num_rows, file_name):\n",
    "    with open(file_name, 'w') as output:\n",
    "        for _ in range(num_rows):\n",
    "            hex1 = '%012x' % random.randrange(16**12)                \n",
    "            flt = float(random.randint(0,100))\n",
    "            dec_lat = random.random()/100\n",
    "            dec_lon = random.random()/100\n",
    "            output.write('%s,%.1f,%.6f,%.6f \\n' % (hex1.lower(), flt, lon+dec_lon, lat+dec_lat))\n",
    "\n",
    "generate_random_data(latitude, longitude, 600, file_n)"
   ]
  },
  {
   "cell_type": "code",
   "execution_count": 13,
   "metadata": {},
   "outputs": [],
   "source": [
    "import numpy as np\n",
    "r = 20\n",
    "u = np.random.uniform(0,1)\n",
    "v = np.random.uniform(0,1)\n",
    "w = r * math.sqrt(u)\n",
    "t = 2 * math.pi * v\n",
    "x = w * math.cos(t)\n",
    "y = w * math.sin(t)"
   ]
  },
  {
   "cell_type": "code",
   "execution_count": 14,
   "metadata": {},
   "outputs": [
    {
     "name": "stdout",
     "output_type": "stream",
     "text": [
      "7.231130500157674 6.408224775253307\n"
     ]
    }
   ],
   "source": [
    "print(x,y)"
   ]
  },
  {
   "cell_type": "code",
   "execution_count": null,
   "metadata": {},
   "outputs": [],
   "source": []
  }
 ],
 "metadata": {
  "kernelspec": {
   "display_name": "Python 3 (ipykernel)",
   "language": "python",
   "name": "python3"
  },
  "language_info": {
   "codemirror_mode": {
    "name": "ipython",
    "version": 3
   },
   "file_extension": ".py",
   "mimetype": "text/x-python",
   "name": "python",
   "nbconvert_exporter": "python",
   "pygments_lexer": "ipython3",
   "version": "3.8.8"
  }
 },
 "nbformat": 4,
 "nbformat_minor": 1
}
